{
  "nbformat": 4,
  "nbformat_minor": 0,
  "metadata": {
    "colab": {
      "provenance": []
    },
    "kernelspec": {
      "name": "python3",
      "display_name": "Python 3"
    },
    "language_info": {
      "name": "python"
    }
  },
  "cells": [
    {
      "cell_type": "markdown",
      "source": [
        "# 05 Feb PW assignment"
      ],
      "metadata": {
        "id": "_sKp2rmlCb5W"
      }
    },
    {
      "cell_type": "code",
      "source": [
        "\"\"\"Q1. Explain Class and Object with respect to Object-Oriented Programming. Give a suitable example.\n",
        "\n",
        "Class: A class is a blueprint or template for creating objects. It defines the attributes (characteristics) and methods (behaviors) that objects of that class will have.\n",
        "Object: An object is an instance of a class. It represents a specific instance of the class, with its own unique data and behaviors\"\"\"\n",
        "\n",
        "class Car:\n",
        "    def __init__(self, brand, model):\n",
        "        self.brand = brand\n",
        "        self.model = model\n",
        "\n",
        "    def drive(self):\n",
        "        return f\"{self.brand} {self.model} is driving\"\n",
        "\n",
        "# Creating objects of the Car class\n",
        "car1 = Car(\"Toyota\", \"Camry\")\n",
        "car2 = Car(\"Honda\", \"Civic\")\n",
        "\n",
        "# Accessing attributes and calling methods of objects\n",
        "print(car1.brand)  # Output: Toyota\n",
        "print(car2.model)  # Output: Civic\n",
        "print(car1.drive())  # Output: Toyota Camry is driving\n"
      ],
      "metadata": {
        "colab": {
          "base_uri": "https://localhost:8080/"
        },
        "id": "6H1FR31JCjhY",
        "outputId": "d4a56dfa-5947-441d-f370-f3291017733c"
      },
      "execution_count": 2,
      "outputs": [
        {
          "output_type": "stream",
          "name": "stdout",
          "text": [
            "Toyota\n",
            "Civic\n",
            "Toyota Camry is driving\n"
          ]
        }
      ]
    },
    {
      "cell_type": "code",
      "source": [
        "#Q2. **Name the four pillars of OOPs.**\n",
        "\"\"\" 1. Encapsulation , 2. Abstraction , 3.Inheritance , 4.Polymorphism \"\"\""
      ],
      "metadata": {
        "colab": {
          "base_uri": "https://localhost:8080/",
          "height": 35
        },
        "id": "OjhkTdadCt5Q",
        "outputId": "94686c50-3796-4936-9884-ed9731c1f1e0"
      },
      "execution_count": 4,
      "outputs": [
        {
          "output_type": "execute_result",
          "data": {
            "text/plain": [
              "' 1. Encapsulation , 2. Abstraction , 3.Inheritance , 4.Polymorphism '"
            ],
            "application/vnd.google.colaboratory.intrinsic+json": {
              "type": "string"
            }
          },
          "metadata": {},
          "execution_count": 4
        }
      ]
    },
    {
      "cell_type": "code",
      "source": [
        "#Q3. **Explain why the __init__() function is used. Give a suitable example.**\n",
        "\n",
        "# The `__init__()` function is a special method in Python classes that is called when an object is created. It initializes the object's attributes. It allows us to set the initial state of an object.\n",
        "\n",
        "\"\"\"Example:\"\"\"\n",
        "class Person:\n",
        "    def __init__(self, name, age):\n",
        "        self.name = name\n",
        "        self.age = age\n",
        "\n",
        "# Creating an object of the Person class\n",
        "person = Person(\"Alice\", 30)\n",
        "\n",
        "# Accessing attributes of the object\n",
        "print(person.name)  # Output: Alice\n",
        "print(person.age)   # Output: 30"
      ],
      "metadata": {
        "colab": {
          "base_uri": "https://localhost:8080/"
        },
        "id": "9E4KVVaaCurD",
        "outputId": "488d0ea9-cce5-4c77-92cd-3cc75d209bdf"
      },
      "execution_count": 5,
      "outputs": [
        {
          "output_type": "stream",
          "name": "stdout",
          "text": [
            "Alice\n",
            "30\n"
          ]
        }
      ]
    },
    {
      "cell_type": "code",
      "source": [
        "#Q5. What is inheritance? Give an example for each type of inheritance.\n",
        "\n",
        "#Inheritance is a feature of object-oriented programming where a class (subclass) can inherit attributes and methods from another class (superclass). It allows code reusability and promotes a hierarchical relationship between classes.\n",
        "\n",
        "\"\"\"Example of each type of inheritance:\n",
        "\n",
        "Single Inheritance:\"\"\"\n",
        "class Animal:\n",
        "    def speak(self):\n",
        "        return \"Animal speaks\"\n",
        "\n",
        "class Dog(Animal):\n",
        "    pass\n",
        "\n",
        "dog = Dog()\n",
        "print(dog.speak())  # Output: Animal speaks\n",
        "\n",
        "\"\"\"Multiple Inheritance:\"\"\"\n",
        "class A:\n",
        "    def method_a(self):\n",
        "        return \"Method A\"\n",
        "\n",
        "class B:\n",
        "    def method_b(self):\n",
        "        return \"Method B\"\n",
        "\n",
        "class C(A, B):\n",
        "    pass\n",
        "\n",
        "c = C()\n",
        "print(c.method_a())  # Output: Method A\n",
        "print(c.method_b())  # Output: Method B\n",
        "\n",
        "\"\"\"Multilevel Inheritance:\"\"\"\n",
        "class Animal:\n",
        "    def speak(self):\n",
        "        return \"Animal speaks\"\n",
        "\n",
        "class Dog(Animal):\n",
        "    pass\n",
        "\n",
        "class Labrador(Dog):\n",
        "    pass\n",
        "\n",
        "labrador = Labrador()\n",
        "print(labrador.speak())  # Output: Animal speaks\n",
        "\n",
        "\"\"\"Hierarchical Inheritance:\"\"\"\n",
        "class Animal:\n",
        "    def speak(self):\n",
        "        return \"Animal speaks\"\n",
        "\n",
        "class Dog(Animal):\n",
        "    pass\n",
        "\n",
        "class Cat(Animal):\n",
        "    pass\n",
        "\n",
        "dog = Dog()\n",
        "cat = Cat()\n",
        "print(dog.speak())  # Output: Animal speaks\n",
        "print(cat.speak())  # Output: Animal speaks\n",
        "\n",
        "\"\"\"Hybrid Inheritance: (Combination of multiple and hierarchical inheritance)\"\"\""
      ],
      "metadata": {
        "colab": {
          "base_uri": "https://localhost:8080/",
          "height": 143
        },
        "id": "9s8ESR14Cu1U",
        "outputId": "bb7a818d-a19d-4b1f-9d40-be6f1ede4ead"
      },
      "execution_count": 6,
      "outputs": [
        {
          "output_type": "stream",
          "name": "stdout",
          "text": [
            "Animal speaks\n",
            "Method A\n",
            "Method B\n",
            "Animal speaks\n",
            "Animal speaks\n",
            "Animal speaks\n"
          ]
        },
        {
          "output_type": "execute_result",
          "data": {
            "text/plain": [
              "'Hybrid Inheritance: (Combination of multiple and hierarchical inheritance)'"
            ],
            "application/vnd.google.colaboratory.intrinsic+json": {
              "type": "string"
            }
          },
          "metadata": {},
          "execution_count": 6
        }
      ]
    }
  ]
}
